{
  "nbformat": 4,
  "nbformat_minor": 0,
  "metadata": {
    "colab": {
      "name": "FAISS-experiment.ipynb",
      "provenance": [],
      "collapsed_sections": [
        "z7odQzv_IvOO"
      ],
      "authorship_tag": "ABX9TyOU7F7iK3160cR3yYhVZvqR",
      "include_colab_link": true
    },
    "kernelspec": {
      "name": "python3",
      "display_name": "Python 3"
    },
    "accelerator": "GPU"
  },
  "cells": [
    {
      "cell_type": "markdown",
      "metadata": {
        "id": "view-in-github",
        "colab_type": "text"
      },
      "source": [
        "<a href=\"https://colab.research.google.com/github/xiaoya27/ANN-CBIR/blob/main/FAISS_experiment.ipynb\" target=\"_parent\"><img src=\"https://colab.research.google.com/assets/colab-badge.svg\" alt=\"Open In Colab\"/></a>"
      ]
    },
    {
      "cell_type": "code",
      "metadata": {
        "id": "XOpmpxXUGMK4"
      },
      "source": [
        ""
      ],
      "execution_count": null,
      "outputs": []
    },
    {
      "cell_type": "markdown",
      "metadata": {
        "id": "GKP6VwQhGuBL"
      },
      "source": [
        "## 1. installation"
      ]
    },
    {
      "cell_type": "code",
      "metadata": {
        "colab": {
          "base_uri": "https://localhost:8080/"
        },
        "id": "B-i7oFZJHwYr",
        "outputId": "6275f918-1a3b-46e1-8b05-6e120186aef1"
      },
      "source": [
        "!apt install libomp-dev\n",
        "!python -m pip install --upgrade faiss faiss-cpu faiss-gpu \n",
        "import faiss\n",
        "# installation issue refers to https://github.com/facebookresearch/faiss/issues/890"
      ],
      "execution_count": 2,
      "outputs": [
        {
          "output_type": "stream",
          "text": [
            "Requirement already up-to-date: faiss in /usr/local/lib/python3.6/dist-packages (1.5.3)\n",
            "Collecting faiss-cpu\n",
            "\u001b[?25l  Downloading https://files.pythonhosted.org/packages/98/e9/ea9196f67f7a4c8b3805d5e09d186aba002ece16738fb8af203025fefa59/faiss_cpu-1.6.4.post2-cp36-cp36m-manylinux2014_x86_64.whl (7.9MB)\n",
            "\u001b[K     |████████████████████████████████| 7.9MB 9.2MB/s \n",
            "\u001b[?25hRequirement already up-to-date: faiss-gpu in /usr/local/lib/python3.6/dist-packages (1.6.4.post2)\n",
            "Requirement already satisfied, skipping upgrade: numpy in /usr/local/lib/python3.6/dist-packages (from faiss) (1.18.5)\n",
            "Installing collected packages: faiss-cpu\n",
            "Successfully installed faiss-cpu-1.6.4.post2\n"
          ],
          "name": "stdout"
        }
      ]
    },
    {
      "cell_type": "code",
      "metadata": {
        "id": "IUfoITrRH0xv"
      },
      "source": [
        "# check tips https://github.com/matsui528/faiss_tips"
      ],
      "execution_count": 5,
      "outputs": []
    },
    {
      "cell_type": "markdown",
      "metadata": {
        "id": "z7odQzv_IvOO"
      },
      "source": [
        "### Nearest neighbor search (CPU)"
      ]
    },
    {
      "cell_type": "code",
      "metadata": {
        "colab": {
          "base_uri": "https://localhost:8080/"
        },
        "id": "fXztOyW0IuHx",
        "outputId": "3c35c6fe-dc16-4108-c886-9083ff5372a7"
      },
      "source": [
        "import faiss\n",
        "import numpy as np\n",
        "\n",
        "D = 128\n",
        "N = 10000\n",
        "X = np.random.random((N, D)).astype(np.float32)  # inputs of faiss must be float32\n",
        "\n",
        "# Setup\n",
        "index = faiss.IndexFlatL2(D)\n",
        "index.add(X)\n",
        "\n",
        "# Search\n",
        "topk = 4\n",
        "dists, ids = index.search(x=X[:3], k=topk)  # Use the top three vectors for queyring\n",
        "print(type(dists), dists.dtype, dists.shape)  # <class 'numpy.ndarray'> float32 (3, 4)\n",
        "print(type(ids), ids.dtype, ids.shape)  # <class 'numpy.ndarray'> int64 (3, 4)\n",
        "\n",
        "# Show params\n",
        "print(\"N:\", index.ntotal)\n",
        "print(\"D:\", index.d)"
      ],
      "execution_count": 4,
      "outputs": [
        {
          "output_type": "stream",
          "text": [
            "<class 'numpy.ndarray'> float32 (3, 4)\n",
            "<class 'numpy.ndarray'> int64 (3, 4)\n",
            "N: 10000\n",
            "D: 128\n"
          ],
          "name": "stdout"
        }
      ]
    },
    {
      "cell_type": "code",
      "metadata": {
        "id": "iBcVUAOhI0F7"
      },
      "source": [
        ""
      ],
      "execution_count": null,
      "outputs": []
    }
  ]
}