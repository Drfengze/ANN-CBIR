{
  "cells": [
    {
      "cell_type": "markdown",
      "metadata": {
        "id": "nKrQAmSQr4uq"
      },
      "source": [
        "## Data preparation"
      ]
    },
    {
      "cell_type": "code",
      "execution_count": 1,
      "metadata": {
        "colab": {
          "base_uri": "https://localhost:8080/"
        },
        "id": "17RjBpFdr8jM",
        "outputId": "ab36fb8b-30bc-4396-bf1e-2e0a8a94e5e2"
      },
      "outputs": [
        {
          "output_type": "stream",
          "name": "stdout",
          "text": [
            "To authorize access needed by Earth Engine, open the following URL in a web browser and follow the instructions. If the web browser does not start automatically, please manually browse the URL below.\n",
            "\n",
            "    https://code.earthengine.google.com/client-auth?scopes=https%3A//www.googleapis.com/auth/earthengine%20https%3A//www.googleapis.com/auth/devstorage.full_control&request_id=xH1S53i_is0ZQCwvKzSdZl4wFdgpu3LqyLwh2p1RaTw&tc=TsUPlp5mNuwc21p_Gn2_ExijC-TfVbixb6qP2PR4vv4&cc=joxW6UkFxz26lX7am8kONJexkWieUywbr0HJItS7P4Q\n",
            "\n",
            "The authorization workflow will generate a code, which you should paste in the box below.\n",
            "Enter verification code: 4/1AWgavddIrIdUw5ep2-RSuR1jVeOyUntTRxd_rQnOIV5dHUsPpyIeYERNypQ\n",
            "\n",
            "Successfully saved authorization token.\n"
          ]
        }
      ],
      "source": [
        "# from google.colab import auth\n",
        "# auth.authenticate_user()\n",
        "import ee\n",
        "ee.Authenticate()\n",
        "ee.Initialize()\n",
        "import tensorflow as tf\n",
        "import folium\n",
        "import numpy as np\n",
        "from datetime import datetime, timedelta, date\n",
        "import random"
      ]
    },
    {
      "cell_type": "code",
      "execution_count": 2,
      "metadata": {
        "id": "4P1K2rbmhRhc"
      },
      "outputs": [],
      "source": [
        "# Cloud masking function.\n",
        "def maskL8sr(image):\n",
        "    cloudShadowBitMask = ee.Number(2).pow(4).int()\n",
        "    cloudsBitMask = ee.Number(2).pow(3).int()\n",
        "    qa = image.select('QA_PIXEL')\n",
        "    mask1 = qa.bitwiseAnd(cloudShadowBitMask).eq(0).And(\n",
        "        qa.bitwiseAnd(cloudsBitMask).eq(0))\n",
        "    mask2 = image.mask().reduce('min')\n",
        "    # mask3 = image.select(opticalBands).gt(0).And(\n",
        "    #     image.select(opticalBands).lt(10000)).reduce('min')\n",
        "    mask = mask1.And(mask2)  # .And(mask3)\n",
        "    return image.updateMask(mask)\n",
        "# Cloud masking function for s2\n",
        "\n",
        "\n",
        "def maskClouds(img):\n",
        "    clouds = ee.Image(img.get('cloud_mask')).select('probability')\n",
        "    isNotCloud = clouds.lt(MAX_CLOUD_PROBABILITY)\n",
        "    return img.updateMask(isNotCloud)\n",
        "\n",
        "\n",
        "def maskEdges(s2_img):\n",
        "    return s2_img.updateMask(\n",
        "        s2_img.select('B8A').mask().updateMask(s2_img.select('B9').mask()))\n",
        "\n",
        "\n",
        "def merge_s2_l8(s2, l8):\n",
        "    merged = ee.ImageCollection([s2, l8]).mean()\n",
        "    return merged\n",
        "\n",
        "\n",
        "def s2_vi(s2):\n",
        "    s2 = s2.addBands(s2.normalizedDifference(['nir', 'red']).rename('ndvi'))\n",
        "    s2 = s2.addBands(s2.select(['ndvi']).multiply(\n",
        "        s2.select(['nir'])).rename('nirv'))\n",
        "    return s2\n"
      ]
    },
    {
      "cell_type": "code",
      "execution_count": 3,
      "metadata": {
        "id": "duT-ZnS2cLnx"
      },
      "outputs": [],
      "source": [
        "# wheat is 24, sub 24 with 1 then set all other types as zerop(background)\n",
        "def filter_type(img):  # TODO refactor for better generalization\n",
        "    img = img.expression('cropland = cropland == 1? 255 : cropland',\n",
        "                         {'cropland': img.select('cropland')})\n",
        "    img = img.expression('cropland = cropland == 24? 1 : cropland',\n",
        "                         {'cropland': img.select('cropland')})\n",
        "    img = img.expression('cropland = cropland > 1? 0 : cropland',\n",
        "                         {'cropland': img.select('cropland')})\n",
        "\n",
        "    return img\n"
      ]
    },
    {
      "cell_type": "code",
      "execution_count": 4,
      "metadata": {
        "id": "bVjwrrNrXL4r"
      },
      "outputs": [],
      "source": [
        "def indexJoin(collectionA, collectionB, propertyName):\n",
        "    joined = ee.ImageCollection(ee.Join.saveFirst(propertyName).apply(\n",
        "        primary=collectionA,\n",
        "        secondary=collectionB,\n",
        "        condition=ee.Filter.equals(\n",
        "            leftField='system:index',\n",
        "            rightField='system:index'\n",
        "        )\n",
        "    ))\n",
        "    # Merge the bands of the joined image.\n",
        "    return joined.map(lambda image: image.addBands(ee.Image(image.get(propertyName))))\n"
      ]
    },
    {
      "cell_type": "code",
      "execution_count": 7,
      "metadata": {
        "id": "5cgT0j0Xsfw-"
      },
      "outputs": [],
      "source": [
        "us = ee.FeatureCollection(\n",
        "    \"FAO/GAUL_SIMPLIFIED_500m/2015/level1\").filter('ADM0_NAME == \"United States of America\"')\n",
        "states = ['Washington','Oregon','Idaho','Montana','Kansas','South Dakota','Nebraska','Colorado','Oklahoma','Texas']  # 'Kansas','South Dakota','Nebraska'\n",
        "trainingPolys = us.filter(ee.Filter.inList(\"ADM1_NAME\", states))\n"
      ]
    },
    {
      "cell_type": "markdown",
      "metadata": {
        "id": "jz8XOKpsl9LN"
      },
      "source": [
        "## Select bands and set the train image kernelsize (how big the train image is)"
      ]
    },
    {
      "cell_type": "code",
      "execution_count": 8,
      "metadata": {
        "id": "MNooHIHN5gSN"
      },
      "outputs": [],
      "source": [
        "\"\"\"# Data Preparation\"\"\"\n",
        "FOLDER = 'training_us_foraus_wheat'\n",
        "TRAINING_BASE = 'training_patches'\n",
        "EVAL_BASE = 'eval_patches'\n"
      ]
    },
    {
      "cell_type": "code",
      "source": [
        "from google.colab import drive\n",
        "drive.mount('/content/drive')"
      ],
      "metadata": {
        "id": "fYhDWmvbEXTV",
        "outputId": "a92ae436-5a36-4367-e166-da7ac7ec502d",
        "colab": {
          "base_uri": "https://localhost:8080/"
        }
      },
      "execution_count": 14,
      "outputs": [
        {
          "output_type": "stream",
          "name": "stdout",
          "text": [
            "Mounted at /content/drive\n"
          ]
        }
      ]
    },
    {
      "cell_type": "markdown",
      "metadata": {
        "id": "QSB_877foLZH"
      },
      "source": [
        "## Define year"
      ]
    },
    {
      "cell_type": "code",
      "execution_count": 9,
      "metadata": {
        "id": "6B1S_5ANZLdB"
      },
      "outputs": [],
      "source": [
        "bandNamesOut = ['blue', 'green', 'red', 'nir', 'swir1', 'swir2']\n",
        "bandNamesl8 = ['SR_B2', 'SR_B3', 'SR_B4', 'SR_B5', 'SR_B6', 'SR_B7']\n",
        "bandNamesS2 = ['B2', 'B3', 'B4', 'B8', 'B11', 'B12']\n"
      ]
    },
    {
      "cell_type": "code",
      "execution_count": 10,
      "metadata": {
        "id": "2ChJy4yl-0P4"
      },
      "outputs": [],
      "source": [
        "BANDS = ['blue', 'green', 'red', 'nir', 'swir1', 'swir2', 'ndvi', 'nirv']\n",
        "RESPONSE = 'cropland'\n",
        "FEATURES = BANDS + [RESPONSE]\n",
        "\n",
        "# Specify the size and shape of patches expected by the model.\n",
        "KERNEL_SIZE = 256\n",
        "KERNEL_SHAPE = [KERNEL_SIZE, KERNEL_SIZE]\n"
      ]
    },
    {
      "cell_type": "code",
      "execution_count": 11,
      "metadata": {
        "id": "GtUkpNlPwsfJ"
      },
      "outputs": [],
      "source": [
        "trainingPolys = us.filter(ee.Filter.inList(\"ADM1_NAME\", states))\n",
        "trainingPolysList = trainingPolys.toList(trainingPolys.size())\n"
      ]
    },
    {
      "cell_type": "code",
      "execution_count": 12,
      "metadata": {
        "id": "SFVoQUoLpm8j"
      },
      "outputs": [],
      "source": [
        "MAX_CLOUD_PROBABILITY = 65\n",
        "l8sr = ee.ImageCollection('LANDSAT/LC08/C02/T1_L2').map(maskL8sr)\n",
        "l8sr = l8sr.select(bandNamesl8, bandNamesOut)\n",
        "\n",
        "s2Clouds = ee.ImageCollection('COPERNICUS/S2_CLOUD_PROBABILITY')\n",
        "s2Sr = ee.ImageCollection('COPERNICUS/S2_SR_HARMONIZED').map(maskEdges)\n"
      ]
    },
    {
      "cell_type": "code",
      "execution_count": 13,
      "metadata": {
        "id": "6QKDMBme0E7q"
      },
      "outputs": [],
      "source": [
        "BANDS = ['blue', 'green', 'red', 'nir', 'swir1', 'swir2', 'ndvi', 'nirv']\n",
        "RESPONSE = 'cropland'\n",
        "FEATURES = BANDS + [RESPONSE]\n",
        "\n",
        "# Specify the size and shape of patches expected by the model.\n",
        "KERNEL_SIZE = 256\n",
        "KERNEL_SHAPE = [KERNEL_SIZE, KERNEL_SIZE]\n"
      ]
    },
    {
      "cell_type": "code",
      "execution_count": null,
      "metadata": {
        "id": "ZyE5_3P9ANrf"
      },
      "outputs": [],
      "source": [
        "def histo(im, geometry):\n",
        "    _ = im.reduceRegion(\n",
        "        reducer=ee.Reducer.histogram(),\n",
        "        geometry=geometry,\n",
        "        scale=500,\n",
        "        maxPixels=1e13)\n",
        "    featurestats = ee.Feature(None, _)\n",
        "    states = ee.FeatureCollection([featurestats])\n",
        "    return states\n"
      ]
    },
    {
      "cell_type": "code",
      "execution_count": 18,
      "metadata": {
        "id": "HsuS8bQVUJkO"
      },
      "outputs": [],
      "source": [
        "for YEAR in range(2019, 2020):\n",
        "    dte1 = date(YEAR, 5, 1)\n",
        "    l8_dte1 = date(YEAR, 5, 31)\n",
        "    s2_dte1 = date(YEAR, 5, 31)\n",
        "    l8_criteria = ee.Filter.date(dte1.strftime(\n",
        "        '%Y-%m-%d'), l8_dte1.strftime('%Y-%m-%d'))\n",
        "    s2_criteria = ee.Filter.date(dte1.strftime(\n",
        "        '%Y-%m-%d'), s2_dte1.strftime('%Y-%m-%d'))\n",
        "    l8_reduced = l8sr.filter(l8_criteria).median().multiply(\n",
        "        0.0000275).add(-0.2).float()\n",
        "\n",
        "    s2SrWithCloudMask = indexJoin(s2Sr.filter(\n",
        "        s2_criteria), s2Clouds.filter(s2_criteria), 'cloud_mask')\n",
        "    s2_reduced = s2SrWithCloudMask.map(maskClouds)\n",
        "    s2_reduced = s2_reduced.select(\n",
        "        bandNamesS2, bandNamesOut).median().divide(10000).float()\n",
        "\n",
        "    image = merge_s2_l8(s2_reduced, l8_reduced)\n",
        "    image = s2_vi(image).float()\n",
        "\n",
        "    dte2 = date(YEAR, 6, 1)\n",
        "    l8_dte2 = date(YEAR, 6, 30)\n",
        "    s2_dte2 = date(YEAR, 6, 30)\n",
        "    l8_criteria = ee.Filter.date(dte1.strftime(\n",
        "        '%Y-%m-%d'), l8_dte2.strftime('%Y-%m-%d'))\n",
        "    s2_criteria = ee.Filter.date(dte1.strftime(\n",
        "        '%Y-%m-%d'), s2_dte2.strftime('%Y-%m-%d'))\n",
        "    l8_reduced = l8sr.filter(l8_criteria).median().multiply(\n",
        "        0.0000275).add(-0.2).float()\n",
        "\n",
        "    s2SrWithCloudMask = indexJoin(s2Sr.filter(\n",
        "        s2_criteria), s2Clouds.filter(s2_criteria), 'cloud_mask')\n",
        "    s2_reduced = s2SrWithCloudMask.map(maskClouds)\n",
        "    s2_reduced = s2_reduced.select(\n",
        "        bandNamesS2, bandNamesOut).median().divide(10000).float()\n",
        "\n",
        "    image1 = merge_s2_l8(s2_reduced, l8_reduced)\n",
        "    image1 = s2_vi(image1).float()\n",
        "    image2 = image1.subtract(image)\n",
        "    image_with_different = image.addBands(image1).addBands(image2)\n",
        "    image = image.addBands(image1)\n",
        "\n",
        "    YOI = date(YEAR, 1, 1).strftime('%Y-%m-%d')\n",
        "    cdl = ee.ImageCollection('USDA/NASS/CDL').filter(\n",
        "        ee.Filter.date(YOI, '2021-12-31')\n",
        "    ).select('cropland').map(filter_type).first()\n",
        "    featureStack = ee.Image.cat([\n",
        "        image,\n",
        "        cdl.select(RESPONSE)\n",
        "    ]).float()\n",
        "\n",
        "    list1 = ee.List.repeat(1, KERNEL_SIZE)\n",
        "    lists = ee.List.repeat(list1, KERNEL_SIZE)\n",
        "    kernel = ee.Kernel.fixed(KERNEL_SIZE, KERNEL_SIZE, lists)\n",
        "\n",
        "    arrays = featureStack.neighborhoodToArray(kernel)\n",
        "    # These numbers determined experimentally.\n",
        "    n = 100  # Number of shards in each polygon.\n",
        "    N = 1000  # Total sample size in each polygon.\n",
        "\n",
        "    i = random.randint(0, 100)\n",
        "\n",
        "    for g in states:\n",
        "        geomSample = ee.FeatureCollection([])\n",
        "        histo_states = ee.FeatureCollection([])\n",
        "        trainingPoly = trainingPolys.filter(ee.Filter.eq(\"ADM1_NAME\", g))\n",
        "        # histo_states = histo(image1,trainingPoly)\n",
        "        for j in np.arange(100):\n",
        "            sample = arrays.sample(\n",
        "                region=trainingPoly,\n",
        "                numPixels=3,  # Size of the shard.\n",
        "                seed=i,\n",
        "                scale=30,\n",
        "                tileScale=8\n",
        "            )\n",
        "\n",
        "            i = i+1\n",
        "            geomSample = geomSample.merge(sample)\n",
        "\n",
        "        desc = TRAINING_BASE + '_' + \\\n",
        "            str(g) + '_' + str(YEAR) + '_' + str(KERNEL_SIZE)\n",
        "        # task1 = ee.batch.Export.table.toDrive(\n",
        "        #                   folder='RDA',\n",
        "        #                   collection=histo_states,\n",
        "        #                   description=str(YEAR)+'_histogram_'+g,\n",
        "        #                   fileFormat='CSV'\n",
        "            #  )    \n",
        "        task = ee.batch.Export.table.toDrive(\n",
        "            folder=FOLDER,\n",
        "            collection=geomSample,\n",
        "            description=desc,\n",
        "            selectors=list(image.bandNames().getInfo()) + ['cropland'],\n",
        "            fileFormat='TFRecord',\n",
        "        )\n",
        "        # task1.start()\n",
        "        task.start()\n",
        "\n",
        "    # i=random.randint(0,100)\n",
        "    # geomSample = ee.FeatureCollection([])\n",
        "    # g = 'Colorado'\n",
        "    # trainingPoly = trainingPolys.filter(ee.Filter.eq(\"ADM1_NAME\",g))\n",
        "    # for j in np.arange(1000):\n",
        "    #   trainingPoly = us.filter(ee.Filter.eq(\"ADM1_NAME\",g))\n",
        "    #   sample = arrays.sample(\n",
        "    #                   region=trainingPoly,\n",
        "    #                   numPixels=3,  # Size of the shard.\n",
        "    #                   seed=i,\n",
        "    #                   scale= 30,\n",
        "    #                   tileScale=8\n",
        "    #                   )\n",
        "    #   i = i+1\n",
        "    #   geomSample = geomSample.merge(sample)\n",
        "\n",
        "    # desc = EVAL_BASE + '_' + str(g)+ '_' + str(YEAR)+ '_' + str(KERNEL_SIZE)\n",
        "    # task = ee.batch.Export.table.toDrive(\n",
        "    #     folder= FOLDER,\n",
        "    #     collection=geomSample,\n",
        "    #     description=desc,\n",
        "    #     selectors =  list(image.bandNames().getInfo()) + ['cropland'],\n",
        "    #     fileFormat='TFRecord',\n",
        "    # )\n",
        "    # task.start()\n"
      ]
    },
    {
      "cell_type": "markdown",
      "metadata": {
        "id": "j03RpVyRrUV_"
      },
      "source": [
        "## Export task"
      ]
    },
    {
      "cell_type": "code",
      "execution_count": null,
      "metadata": {
        "id": "FPe4G7c9CfkY"
      },
      "outputs": [],
      "source": [
        "from pprint import pprint\n",
        "pprint(ee.batch.Task.list())\n"
      ]
    },
    {
      "cell_type": "markdown",
      "metadata": {
        "id": "VTk60vmihc7j"
      },
      "source": [
        "## Export prediciton"
      ]
    }
  ],
  "metadata": {
    "colab": {
      "provenance": []
    },
    "interpreter": {
      "hash": "25a19fbe0a9132dfb9279d48d161753c6352f8f9478c2e74383d340069b907c3"
    },
    "kernelspec": {
      "display_name": "Python ('gee')",
      "language": "python",
      "name": "python3"
    },
    "language_info": {
      "codemirror_mode": {
        "name": "ipython",
        "version": 3
      },
      "file_extension": ".py",
      "mimetype": "text/x-python",
      "name": "python",
      "nbconvert_exporter": "python",
      "pygments_lexer": "ipython3",
      "version": "3.9.13"
    }
  },
  "nbformat": 4,
  "nbformat_minor": 0
}